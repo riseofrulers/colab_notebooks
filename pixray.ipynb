{
  "cells": [
    {
      "cell_type": "code",
      "execution_count": null,
      "metadata": {
        "id": "KnEJayeYBO3b"
      },
      "outputs": [],
      "source": [
        "def generate(prompt, drawer, iterations):\n",
        "  torch.cuda.empty_cache()\n",
        "  gc.collect()\n",
        "  !rm -r output\n",
        "  # prompt_input = \"prompt_input_goes_here\" # @param\n",
        "  # project_name = \"project_name_goes_here\" # @param\n",
        "  pixray.reset_settings()\n",
        "  pixray.add_settings(prompts=prompt)\n",
        "  pixray.add_settings(iterations=int(iterations))\n",
        "  # pixray.add_settings(display_every=1)\n",
        "  pixray.add_settings(batches=1)\n",
        "  pixray.add_settings(learning_rate_drops=[100])\n",
        "  pixray.add_settings(optimiser=\"DiffGrad\")\n",
        "  pixray.add_settings(clip_models=\"RN50,ViT-B/16,ViT-B/32\")\n",
        "  pixray.add_settings(quality=\"best\")\n",
        "  pixray.add_settings(size=[810,540])\n",
        "  pixray.add_settings(display_clear=\"True\")\n",
        "  pixray.add_settings(make_video=False)\n",
        "  pixray.add_settings(outdir=\"output\")\n",
        "  pixray.add_settings(drawer=drawer)\n",
        "\n",
        "  settings = pixray.apply_settings()\n",
        "  pixray.do_init(settings)\n",
        "  pixray.do_run(settings)\n",
        "\n",
        "  return 'output/output.png'\n",
        "\n",
        "def launch_gradio():\n",
        "  prompt = gr.inputs.Textbox(label=\"Image Prompt\")\n",
        "  drawer = gr.inputs.Radio(choices=[\"vqgan\", \"pixel\", \"clipdraw\"], label=\"drawer\")\n",
        "  iterations = gr.inputs.Slider(10, 500, 10, 480, \"Iterations\")\n",
        "  iface = gr.Interface(generate, inputs=[prompt, drawer, iterations], outputs=['image'], enable_queue=True, live=False)\n",
        "  iface.launch(debug=True, share=True)"
      ]
    },
    {
      "cell_type": "code",
      "source": [
        "!git clone --recursive --branch release https://github.com/pixray/pixray >nul 2>&1\n",
        "!pip install -r pixray/requirements.txt >nul 2>&1\n",
        "!pip install basicsr >nul 2>&1\n",
        "!pip uninstall -y tensorflow >nul 2>&1\n",
        "!pip install gradio >nul 2>&1\n",
        "!git clone https://github.com/pixray/diffvg >nul 2>&1\n",
        "%cd diffvg\n",
        "!git submodule update --init --recursive >nul 2>&1\n",
        "!python setup.py install >nul 2>&1\n",
        "%cd ..\n",
        "!pip freeze | grep torch >nul 2>&1\n",
        "\n",
        "printsec = \"printSecret\"\n",
        "\n",
        "if os.path.isfile(\"initiated\"):\n",
        "  import sys\n",
        "  sys.path.append(\"pixray\")\n",
        "  import pixray\n",
        "  import gc\n",
        "  !mkdir models\n",
        "  import gradio as gr\n",
        "  import os\n",
        "  launch_gradio();\n",
        "else:\n",
        "  !touch initiated >nul 2>&1\n",
        "  print(\"initiated. ready to restart. \" + printsec)"
      ],
      "metadata": {
        "id": "tv5NUC7QN4rE"
      },
      "execution_count": null,
      "outputs": []
    }
  ],
  "metadata": {
    "accelerator": "GPU",
    "colab": {
      "provenance": []
    },
    "gpuClass": "standard",
    "kernelspec": {
      "display_name": "Python 3",
      "name": "python3"
    },
    "language_info": {
      "name": "python"
    }
  },
  "nbformat": 4,
  "nbformat_minor": 0
}
