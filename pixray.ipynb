{
  "cells": [
    {
      "cell_type": "code",
      "execution_count": null,
      "metadata": {},
      "outputs": [],
      "source": [
        "promptlist = [\n",
        "    \n",
        "]"
      ]
    },
    {
      "cell_type": "code",
      "execution_count": 34,
      "metadata": {
        "id": "KnEJayeYBO3b"
      },
      "outputs": [],
      "source": [
        "def generate(prompt, drawer, iterations):\n",
        "\n",
        "  outdirectory = prompt.replace(\"8K\", \"\").replace(\"3D\", \"\").replace(\"HD\", \"\").replace(\"#artstation\", \"\").strip()\n",
        "  torch.cuda.empty_cache()\n",
        "  gc.collect()\n",
        "  pixray.reset_settings()\n",
        "  pixray.add_settings(prompts=prompt)\n",
        "  pixray.add_settings(iterations=int(iterations))\n",
        "  pixray.add_settings(batches=1)\n",
        "  pixray.add_settings(learning_rate_drops=[100])\n",
        "  pixray.add_settings(optimiser=\"DiffGrad\")\n",
        "  pixray.add_settings(clip_models=\"RN50,ViT-B/16,ViT-B/32\")\n",
        "  pixray.add_settings(quality=\"best\")\n",
        "  pixray.add_settings(size=[810,540])\n",
        "  pixray.add_settings(display_clear=\"True\")\n",
        "  pixray.add_settings(make_video=False)\n",
        "  pixray.add_settings(outdir=f\"output/{outdirectory}\")\n",
        "  pixray.add_settings(drawer=drawer)\n",
        "\n",
        "  settings = pixray.apply_settings()\n",
        "  pixray.do_init(settings)\n",
        "  pixray.do_run(settings)\n",
        "  !cp \"output/{outdirectory}/output.png\" \"output_finals/{outdirectory}.png\"\n",
        "  files.download(f\"output_finals/{outdirectory}.png\")\n"
      ]
    },
    {
      "cell_type": "code",
      "execution_count": null,
      "metadata": {},
      "outputs": [],
      "source": [
        "def start_func():\n",
        "\n",
        "    i = 0\n",
        "    while i < len(promptlist):\n",
        "        generate(promptlist[i], \"vqgan\", 480)\n",
        "        i += 1\n",
        "\n",
        "    !zip -r output_finals.zip output_finals/\n",
        "    files.download(\"output_finals.zip\")\n"
      ]
    },
    {
      "cell_type": "code",
      "execution_count": null,
      "metadata": {
        "id": "tv5NUC7QN4rE"
      },
      "outputs": [],
      "source": [
        "import os\n",
        "if os.path.isfile(\"initiated\"):\n",
        "  import sys\n",
        "  sys.path.append(\"pixray\")\n",
        "  import pixray\n",
        "  import gc\n",
        "  !mkdir models\n",
        "  !mkdir output_finals\n",
        "  import torch\n",
        "  import base64\n",
        "  from google.colab import files\n",
        "  start_func()\n",
        "\n",
        "else:\n",
        "  !git clone --recursive --branch release https://github.com/pixray/pixray\n",
        "  !pip install -r pixray/requirements.txt\n",
        "  !pip install basicsr\n",
        "  !pip install pybase64\n",
        "  !pip uninstall -y tensorflow\n",
        "  !git clone https://github.com/pixray/diffvg\n",
        "  %cd diffvg\n",
        "  !git submodule update --init --recursive\n",
        "  !python setup.py install\n",
        "  %cd ..\n",
        "  !pip freeze | grep torch\n",
        "  !touch initiated\n",
        "  print(\"initiated. ready to restart.\")"
      ]
    }
  ],
  "metadata": {
    "accelerator": "GPU",
    "colab": {
      "provenance": []
    },
    "gpuClass": "standard",
    "kernelspec": {
      "display_name": "Python 3.9.16 ('base')",
      "language": "python",
      "name": "python3"
    },
    "language_info": {
      "name": "python",
      "version": "3.9.16"
    },
    "vscode": {
      "interpreter": {
        "hash": "e7bfbac62f18e256675de342cf6118df492ae987400ac2c8c0fba720bc2312e0"
      }
    }
  },
  "nbformat": 4,
  "nbformat_minor": 0
}
