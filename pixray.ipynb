{
  "cells": [
    {
      "cell_type": "code",
      "source": [
        "!git clone --recursive --branch release https://github.com/pixray/pixray >nul 2>&1\n",
        "!pip install -r pixray/requirements.txt >nul 2>&1\n",
        "!pip install basicsr >nul 2>&1\n",
        "!pip uninstall -y tensorflow >nul 2>&1\n",
        "!git clone https://github.com/pixray/diffvg >nul 2>&1\n",
        "%cd diffvg\n",
        "!git submodule update --init --recursive >nul 2>&1\n",
        "!python setup.py install >nul 2>&1\n",
        "%cd ..\n",
        "!pip freeze | grep torch >nul 2>&1\n",
        "\n",
        "import sys\n",
        "sys.path.append(\"pixray\")\n",
        "import pixray"
      ],
      "metadata": {
        "id": "tv5NUC7QN4rE"
      },
      "execution_count": null,
      "outputs": []
    },
    {
      "cell_type": "code",
      "execution_count": 1,
      "metadata": {
        "colab": {
          "base_uri": "https://localhost:8080/"
        },
        "id": "KnEJayeYBO3b",
        "outputId": "346ec5ab-3bf4-4d6c-aa08-49be6f9f5dd3"
      },
      "outputs": [
        {
          "output_type": "stream",
          "name": "stdout",
          "text": [
            "/content/diffvg\n",
            "/content\n",
            "done setup functionality\n"
          ]
        }
      ],
      "source": [
        "import gc\n",
        "gc.collect()\n",
        "\n",
        "prompt_input = \"prompt_input_goes_here\" # @param\n",
        "pixray.reset_settings()\n",
        "pixray.add_settings(prompts=prompt_input)\n",
        "pixray.add_settings(iterations=480)\n",
        "# pixray.add_settings(display_every=1)\n",
        "pixray.add_settings(batches=1)\n",
        "pixray.add_settings(optimiser=\"DiffGrad\")\n",
        "pixray.add_settings(clip_models=\"RN50,ViT-B/16,ViT-B/32\")\n",
        "pixray.add_settings(quality=\"best\")\n",
        "pixray.add_settings(size=[810,540])\n",
        "pixray.add_settings(display_clear=\"True\")\n",
        "\n",
        "pixray.add_settings(outdir=\"test2\")\n",
        "\n",
        "settings = pixray.apply_settings()\n",
        "pixray.do_init(settings)\n",
        "pixray.do_run(settings)"
      ]
    }
  ],
  "metadata": {
    "accelerator": "GPU",
    "colab": {
      "provenance": []
    },
    "gpuClass": "standard",
    "kernelspec": {
      "display_name": "Python 3",
      "name": "python3"
    },
    "language_info": {
      "name": "python"
    }
  },
  "nbformat": 4,
  "nbformat_minor": 0
}