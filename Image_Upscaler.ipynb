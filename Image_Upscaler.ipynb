{
  "nbformat": 4,
  "nbformat_minor": 0,
  "metadata": {
    "colab": {
      "provenance": []
    },
    "kernelspec": {
      "name": "python3",
      "display_name": "Python 3"
    },
    "language_info": {
      "name": "python"
    },
    "gpuClass": "standard"
  },
  "cells": [
    {
      "cell_type": "code",
      "source": [
        "!wget https://download1349.mediafire.com/ditxo2k28kwg/uwqh7mgsry0efg9/EDSR_x2.pb\n",
        "\n",
        "import cv2\n",
        "from cv2 import dnn_superres\n",
        "\n",
        "\n",
        "def process_image(src_path_to_image, dest_path_to_image):\n",
        "  print(\"processing started for \" + src_path_to_image + \" to \" + dest_path_to_image)\n",
        "  sr = dnn_superres.DnnSuperResImpl_create()\n",
        "\n",
        "  path = \"/content/drive/MyDrive/EDSR_x2.pb\"\n",
        "  sr.readModel(path)\n",
        "\n",
        "  sr.setModel(\"edsr\", 2)\n",
        "  image = cv2.imread(src_path_to_image)\n",
        "  result = sr.upsample(image)\n",
        "\n",
        "  cv2.imwrite(dest_path_to_image, result)\n",
        "  print(\"upsampled \" + dest_path_to_image + \"\\n\\n\")\n",
        "\n",
        "src_image_folder_path = \"/content/\"\n",
        "dest_image_folder_path = \"/content/\"\n",
        "\n",
        "image_name = \"image_name\" # @param\n",
        "\n",
        "process_image((src_image_folder_path+image_name), (dest_image_folder_path+image_name))\n",
        "\n",
        "from google.colab import files\n",
        "files.download(image_name)"
      ],
      "metadata": {
        "colab": {
          "base_uri": "https://localhost:8080/"
        },
        "id": "yAjsoelCCi_L",
        "outputId": "fbe7f903-8ce0-4668-bf0f-d6d5ace65352"
      },
      "execution_count": null,
      "outputs": [
        {
          "output_type": "stream",
          "name": "stdout",
          "text": [
            "processing started for /content/drive/MyDrive/to_upscale/frame_0000.png to /content/output/frame_0000.png\n",
            "upsampled /content/output/frame_0000.png\n",
            "\n",
            "\n",
            "processing started for /content/drive/MyDrive/to_upscale/frame_0010.png to /content/output/frame_0010.png\n"
          ]
        }
      ]
    }
  ]
}